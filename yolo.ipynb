{
 "cells": [
  {
   "cell_type": "code",
   "execution_count": 62,
   "metadata": {},
   "outputs": [],
   "source": [
    "import numpy as np\n",
    "import cv2\n",
    "import time \n"
   ]
  },
  {
   "cell_type": "code",
   "execution_count": 63,
   "metadata": {},
   "outputs": [
    {
     "data": {
      "text/plain": [
       "'C:\\\\Users\\\\User'"
      ]
     },
     "execution_count": 63,
     "metadata": {},
     "output_type": "execute_result"
    }
   ],
   "source": [
    "pwd\n"
   ]
  },
  {
   "cell_type": "code",
   "execution_count": 64,
   "metadata": {},
   "outputs": [],
   "source": [
    "image_BGR = cv2.imread('test41.jpg')\n"
   ]
  },
  {
   "cell_type": "code",
   "execution_count": 65,
   "metadata": {},
   "outputs": [],
   "source": [
    "cv2.namedWindow('Original Image', cv2.WINDOW_NORMAL)\n",
    "cv2.imshow('Original Image', image_BGR)\n",
    "cv2.waitKey(0)\n",
    "cv2.destroyWindow('Original Image')\n",
    "h, w = image_BGR.shape[:2] "
   ]
  },
  {
   "cell_type": "code",
   "execution_count": 66,
   "metadata": {},
   "outputs": [],
   "source": [
    "blob = cv2.dnn.blobFromImage(image_BGR, 1 / 255.0, (416, 416),\n",
    "                             swapRB=True, crop=False)"
   ]
  },
  {
   "cell_type": "code",
   "execution_count": 67,
   "metadata": {},
   "outputs": [],
   "source": [
    "with open('coco.names') as f:\n",
    "    labels = [line.strip() for line in f]\n",
    "\n",
    "\n",
    "network = cv2.dnn.readNetFromDarknet('yolov3.cfg',\n",
    "                                     'yolov3.weights')\n",
    "\n",
    "\n",
    "layers_names_all = network.getLayerNames()\n",
    "\n",
    "layers_names_output = \\\n",
    "    [layers_names_all[i[0] - 1] for i in network.getUnconnectedOutLayers()]\n"
   ]
  },
  {
   "cell_type": "code",
   "execution_count": 68,
   "metadata": {},
   "outputs": [],
   "source": [
    "probability_minimum = 0.5\n",
    "threshold = 0.3\n",
    "colours = np.random.randint(0, 255, size=(len(labels), 3), dtype='uint8')"
   ]
  },
  {
   "cell_type": "code",
   "execution_count": 69,
   "metadata": {},
   "outputs": [],
   "source": [
    "network.setInput(blob)  # setting blob as input to the network\n",
    "start = time.time()\n",
    "output_from_network = network.forward(layers_names_output)\n",
    "end = time.time()"
   ]
  },
  {
   "cell_type": "code",
   "execution_count": 70,
   "metadata": {},
   "outputs": [
    {
     "name": "stdout",
     "output_type": "stream",
     "text": [
      "Objects Detection took 4.60343 seconds\n"
     ]
    }
   ],
   "source": [
    "print('Objects Detection took {:.5f} seconds'.format(end - start))\n",
    "bounding_boxes = []\n",
    "confidences = []\n",
    "class_numbers = []"
   ]
  },
  {
   "cell_type": "code",
   "execution_count": 71,
   "metadata": {},
   "outputs": [
    {
     "name": "stdout",
     "output_type": "stream",
     "text": [
      "results: [[ 7]\n",
      " [ 2]\n",
      " [ 1]\n",
      " [ 6]\n",
      " [ 9]\n",
      " [ 8]\n",
      " [ 3]\n",
      " [ 4]\n",
      " [12]\n",
      " [13]\n",
      " [10]]\n"
     ]
    }
   ],
   "source": [
    "for result in output_from_network:   \n",
    "    for detected_objects in result:\n",
    "        \n",
    "        scores = detected_objects[5:]       \n",
    "        class_current = np.argmax(scores)        \n",
    "        confidence_current = scores[class_current]\n",
    "\n",
    "        \n",
    "\n",
    "        \n",
    "        if confidence_current > probability_minimum:                                                        \n",
    "            box_current = detected_objects[0:4] * np.array([w, h, w, h])\n",
    "\n",
    "            x_center, y_center, box_width, box_height = box_current\n",
    "            x_min = int(x_center - (box_width / 2))\n",
    "            y_min = int(y_center - (box_height / 2))\n",
    "\n",
    "            bounding_boxes.append([x_min, y_min, int(box_width), int(box_height)])\n",
    "            confidences.append(float(confidence_current))\n",
    "            class_numbers.append(class_current)\n",
    "\n",
    "\n",
    "\n",
    "\n",
    "\n",
    "results = cv2.dnn.NMSBoxes(bounding_boxes, confidences,\n",
    "                           probability_minimum, threshold)\n",
    "print(\"results:\",results)"
   ]
  },
  {
   "cell_type": "code",
   "execution_count": 72,
   "metadata": {},
   "outputs": [
    {
     "name": "stdout",
     "output_type": "stream",
     "text": [
      "Object 1: car\n",
      "Object 2: car\n",
      "Object 3: car\n",
      "Object 4: car\n",
      "Object 5: car\n",
      "Object 6: person\n",
      "Object 7: person\n",
      "Object 8: person\n",
      "Object 9: person\n",
      "Object 10: person\n",
      "Object 11: person\n"
     ]
    }
   ],
   "source": [
    "counter = 1\n",
    "\n",
    "if len(results) > 0:\n",
    "    for i in results.flatten():\n",
    "        print('Object {0}: {1}'.format(counter, labels[int(class_numbers[i])]))\n",
    "\n",
    "        counter += 1\n",
    "\n",
    "   \n",
    "        x_min, y_min = bounding_boxes[i][0], bounding_boxes[i][1]\n",
    "        box_width, box_height = bounding_boxes[i][2], bounding_boxes[i][3]\n",
    "\n",
    "        colour_box_current = colours[class_numbers[i]].tolist()\n",
    "        \n",
    "        cv2.rectangle(image_BGR, (x_min, y_min),\n",
    "                      (x_min + box_width, y_min + box_height),\n",
    "                      colour_box_current, 2)\n",
    "        text_box_current = '{}: {:.4f}'.format(labels[int(class_numbers[i])],\n",
    "                                               confidences[i])\n",
    "\n",
    "        cv2.putText(image_BGR, text_box_current, (x_min, y_min - 5),\n",
    "                    cv2.FONT_HERSHEY_COMPLEX, 0.7, colour_box_current, 2)\n"
   ]
  },
  {
   "cell_type": "code",
   "execution_count": 73,
   "metadata": {},
   "outputs": [
    {
     "name": "stdout",
     "output_type": "stream",
     "text": [
      "\n",
      "Total objects been detected: 14\n",
      "Number of objects left after non-maximum suppression: 11\n"
     ]
    }
   ],
   "source": [
    "print()\n",
    "print('Total objects been detected:', len(bounding_boxes))\n",
    "print('Number of objects left after non-maximum suppression:', counter - 1)\n",
    "\n",
    "\n",
    "cv2.namedWindow('Detections', cv2.WINDOW_NORMAL)\n",
    "cv2.imshow('Detections', image_BGR)\n",
    "cv2.waitKey(0)\n",
    "cv2.destroyWindow('Detections')"
   ]
  },
  {
   "cell_type": "code",
   "execution_count": 80,
   "metadata": {},
   "outputs": [
    {
     "data": {
      "text/plain": [
       "True"
      ]
     },
     "execution_count": 80,
     "metadata": {},
     "output_type": "execute_result"
    }
   ],
   "source": [
    "cv2.imwrite(\"test42.jpg\",image_BGR)"
   ]
  },
  {
   "cell_type": "code",
   "execution_count": 84,
   "metadata": {},
   "outputs": [],
   "source": [
    "i = cv2.imread('test42.jpg')\n",
    "cv2.imshow(\"jhgr\",i)"
   ]
  },
  {
   "cell_type": "code",
   "execution_count": null,
   "metadata": {},
   "outputs": [],
   "source": []
  }
 ],
 "metadata": {
  "kernelspec": {
   "display_name": "Python 3",
   "language": "python",
   "name": "python3"
  },
  "language_info": {
   "codemirror_mode": {
    "name": "ipython",
    "version": 3
   },
   "file_extension": ".py",
   "mimetype": "text/x-python",
   "name": "python",
   "nbconvert_exporter": "python",
   "pygments_lexer": "ipython3",
   "version": "3.7.3"
  }
 },
 "nbformat": 4,
 "nbformat_minor": 2
}
